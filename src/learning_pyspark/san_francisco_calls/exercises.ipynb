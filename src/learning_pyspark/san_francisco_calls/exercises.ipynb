{
 "cells": [
  {
   "metadata": {},
   "cell_type": "markdown",
   "source": [
    "Question 1 : Charger les données en local dans un DataFrame PySpark\n",
    "\n",
    "Télécharge le fichier CSV sur ton ordinateur, puis importe-le en tant que DataFrame PySpark.\n",
    "Attendu : Un DataFrame nommé df_fire correctement chargé. Utilise .show() pour vérifier son chargement."
   ],
   "id": "efd8a0e09a64936b"
  },
  {
   "cell_type": "code",
   "execution_count": null,
   "id": "initial_id",
   "metadata": {
    "collapsed": true
   },
   "outputs": [],
   "source": "from pyspark.sql import SparkSession"
  },
  {
   "metadata": {},
   "cell_type": "markdown",
   "source": [
    "Question 2 : Afficher la structure du DataFrame (schéma et types)\n",
    "\n",
    "Inspecte le schéma du DataFrame chargé précédemment pour comprendre les types de données de chaque colonne.\n",
    "Attendu : Afficher clairement le schéma avec .printSchema()."
   ],
   "id": "b3cbbb9e46aff872"
  },
  {
   "metadata": {},
   "cell_type": "code",
   "outputs": [],
   "execution_count": null,
   "source": "",
   "id": "6a0bf14f570d4279"
  },
  {
   "metadata": {},
   "cell_type": "markdown",
   "source": [
    "Question 3 : Afficher les 10 premières lignes du DataFrame\n",
    "\n",
    "Visualise les 10 premières lignes pour observer les valeurs et la structure concrète des données.\n",
    "Attendu : Utiliser .show(10)."
   ],
   "id": "a3fc20b2b1148d8c"
  },
  {
   "metadata": {},
   "cell_type": "code",
   "outputs": [],
   "execution_count": null,
   "source": "",
   "id": "4815a1a37da8b10a"
  },
  {
   "metadata": {},
   "cell_type": "markdown",
   "source": [
    "Question 4 : Sélectionner uniquement certaines colonnes pertinentes\n",
    "\n",
    "Ne garde que ces colonnes : Call Number, Incident Number, Call Type, Call Date, Received DtTm, City, Zipcode, Unit Type.\n",
    "Attendu : Un DataFrame avec uniquement ces colonnes."
   ],
   "id": "81310f0844cea632"
  },
  {
   "metadata": {},
   "cell_type": "code",
   "outputs": [],
   "execution_count": null,
   "source": "",
   "id": "7c0ae6262da297d3"
  },
  {
   "metadata": {},
   "cell_type": "markdown",
   "source": [
    "Question 5 : Renommer les colonnes avec des espaces par des underscores (_)\n",
    "\n",
    "Modifie le nom des colonnes sélectionnées précédemment pour remplacer les espaces par _.\n",
    "Attendu : Vérifie avec .columns."
   ],
   "id": "e369c15edd8b3860"
  },
  {
   "metadata": {},
   "cell_type": "code",
   "outputs": [],
   "execution_count": null,
   "source": "",
   "id": "c4ee4378c717ab30"
  },
  {
   "metadata": {},
   "cell_type": "markdown",
   "source": [
    "Question 6 : Afficher uniquement les interventions qui concernent des incendies (\"Fire\")\n",
    "\n",
    "Filtre le DataFrame sur la colonne Call_Type pour ne garder que les lignes contenant explicitement le mot \"Fire\".\n",
    "Attendu : Résultat avec seulement des interventions relatives au feu."
   ],
   "id": "821d859cd06c1837"
  },
  {
   "metadata": {},
   "cell_type": "code",
   "outputs": [],
   "execution_count": null,
   "source": "",
   "id": "82680e52826b249b"
  },
  {
   "metadata": {},
   "cell_type": "markdown",
   "source": [
    "Question 7 : Compter le nombre total d'appels concernant des incendies\n",
    "\n",
    "Effectue un comptage après avoir filtré les données selon la condition précédente.\n",
    "Attendu : Un entier représentant le total des lignes concernées."
   ],
   "id": "af6d17bb1131bbb1"
  },
  {
   "metadata": {},
   "cell_type": "code",
   "outputs": [],
   "execution_count": null,
   "source": "",
   "id": "e7dd07a3f4666688"
  },
  {
   "metadata": {},
   "cell_type": "markdown",
   "source": [
    "Question 8 : Ajouter une colonne avec l'année extraite de Call_Date\n",
    "\n",
    "Crée une colonne supplémentaire nommée Year extraite depuis la colonne Call_Date.\n",
    "Attendu : Un DataFrame avec la nouvelle colonne Year contenant seulement l'année."
   ],
   "id": "85af6d777766732f"
  },
  {
   "metadata": {},
   "cell_type": "code",
   "outputs": [],
   "execution_count": null,
   "source": "",
   "id": "859ab8e6e4942500"
  },
  {
   "metadata": {},
   "cell_type": "markdown",
   "source": [
    "Question 9 : Afficher le nombre d'appels par année décroissant\n",
    "\n",
    "Compte le nombre d'appels regroupés par l'année précédemment extraite.\n",
    "Attendu : Un classement des années avec le nombre d'appels décroissant."
   ],
   "id": "7b0564a4a8b943a5"
  },
  {
   "metadata": {},
   "cell_type": "code",
   "outputs": [],
   "execution_count": null,
   "source": "",
   "id": "f00a4adfd30b1a44"
  },
  {
   "metadata": {},
   "cell_type": "markdown",
   "source": [
    "Question 10 : Quels sont les 5 types d'appels les plus fréquents ?\n",
    "\n",
    "Réalise un regroupement (groupBy) par type d'appel (Call_Type) pour afficher les 5 types les plus fréquents.\n",
    "Attendu : Afficher ces résultats ordonnés décroissant avec leur nombre."
   ],
   "id": "a99b173103487e0a"
  },
  {
   "metadata": {},
   "cell_type": "code",
   "outputs": [],
   "execution_count": null,
   "source": "",
   "id": "4e4868c1c8f73c08"
  },
  {
   "metadata": {},
   "cell_type": "markdown",
   "source": [
    "Question 11 : Identifier les appels multiples (même Incident_Number)\n",
    "\n",
    "Trouve les incidents pour lesquels plusieurs appels ont été passés.\n",
    "Attendu : Utiliser une agrégation (groupBy) sur Incident_Number, garder uniquement ceux ayant plus d'une entrée, puis faire une jointure avec le DataFrame initial pour récupérer les détails complets."
   ],
   "id": "ff811db676cf7756"
  },
  {
   "metadata": {},
   "cell_type": "code",
   "outputs": [],
   "execution_count": null,
   "source": "",
   "id": "dac4c015ca899e59"
  },
  {
   "metadata": {},
   "cell_type": "markdown",
   "source": [
    "Question 12 : Ajouter une colonne avec les codes postaux nettoyés (sans espaces)\n",
    "\n",
    "Nettoie la colonne Zipcode en retirant les éventuels espaces inutiles (au début ou fin).\n",
    "Attendu : Une colonne Clean_Zipcode propre."
   ],
   "id": "824d4688ed76ae7"
  },
  {
   "metadata": {},
   "cell_type": "code",
   "outputs": [],
   "execution_count": null,
   "source": "",
   "id": "3d7a02c4e860f11d"
  },
  {
   "metadata": {},
   "cell_type": "markdown",
   "source": [
    "Question 13 : Combien y a-t-il de valeurs nulles dans chaque colonne sélectionnée au départ ?\n",
    "\n",
    "Utilise une opération permettant de compter le nombre de valeurs nulles pour chaque colonne du DataFrame initial.\n",
    "Attendu : Afficher clairement chaque colonne avec le nombre de valeurs manquantes associées."
   ],
   "id": "e437ff09ab58e75c"
  },
  {
   "metadata": {},
   "cell_type": "code",
   "outputs": [],
   "execution_count": null,
   "source": "",
   "id": "5b148147a199785d"
  },
  {
   "metadata": {},
   "cell_type": "markdown",
   "source": [
    "Question 14 : Remplir les valeurs manquantes des colonnes City par \"Unknown\"\n",
    "\n",
    "Traite les valeurs manquantes de la colonne City pour la compléter avec \"Unknown\".\n",
    "Attendu : Vérifie après l'opération que plus aucune valeur nulle n'existe dans City."
   ],
   "id": "dfc1167609e40c3d"
  },
  {
   "metadata": {},
   "cell_type": "code",
   "outputs": [],
   "execution_count": null,
   "source": "",
   "id": "2fec8e73f4fb8d4a"
  },
  {
   "metadata": {},
   "cell_type": "markdown",
   "source": [
    "Question 15 : Trouver le dernier appel reçu pour chaque type d'unité (Unit_Type)\n",
    "\n",
    "Utilise une fonction de fenêtrage pour afficher la dernière date de réception d'appel (Received_DtTm) par Unit_Type.\n",
    "Attendu : Un DataFrame affichant distinctement chaque type d'unité avec la date la plus récente associée."
   ],
   "id": "3a5c396768691957"
  },
  {
   "metadata": {},
   "cell_type": "code",
   "outputs": [],
   "execution_count": null,
   "source": "",
   "id": "cb759b9cd8b5efc1"
  },
  {
   "metadata": {},
   "cell_type": "markdown",
   "source": [
    "Question 16 : Ajouter une colonne indiquant le délai entre Call Date et Received DtTm en minutes\n",
    "\n",
    "Calcule le temps écoulé entre la date d'appel et la réception en minutes.\n",
    "Attendu : Une nouvelle colonne Delay_Minutes qui calcule ce délai précisément."
   ],
   "id": "c543116a269f532f"
  },
  {
   "metadata": {},
   "cell_type": "code",
   "outputs": [],
   "execution_count": null,
   "source": "",
   "id": "365b97ff11c360a5"
  },
  {
   "metadata": {},
   "cell_type": "markdown",
   "source": [
    "Question 17 : Identifier et supprimer les doublons exacts\n",
    "\n",
    "Identifie les doublons exacts sur les colonnes : Call Number, Incident Number, Received DtTm et supprime-les.\n",
    "Attendu : Afficher le nombre de doublons supprimés."
   ],
   "id": "37c80d9a3d22f998"
  },
  {
   "metadata": {},
   "cell_type": "code",
   "outputs": [],
   "execution_count": null,
   "source": "",
   "id": "9a88b247b3eaae72"
  },
  {
   "metadata": {},
   "cell_type": "markdown",
   "source": [
    "Question 18 : Exporter les données nettoyées en local (CSV)\n",
    "\n",
    "Écris ton DataFrame final nettoyé (sans doublon, sans valeurs manquantes importantes, colonnes propres, etc.) en CSV localement sur ton disque.\n",
    "Attendu : Fichier CSV produit localement."
   ],
   "id": "5d7bdb1c66e0831c"
  },
  {
   "metadata": {},
   "cell_type": "code",
   "outputs": [],
   "execution_count": null,
   "source": "",
   "id": "a61778225df0cb99"
  },
  {
   "metadata": {},
   "cell_type": "markdown",
   "source": [
    "Défi final : Création d'une mini-pipeline PySpark\n",
    "Question 19 : Écrire un script PySpark complet\n",
    "\n",
    "Écris un script PySpark autonome effectuant toutes les étapes suivantes :\n",
    "\n",
    "Import des données en CSV\n",
    "\n",
    "Nettoyage des colonnes (renommage, gestion valeurs nulles)\n",
    "\n",
    "Filtrage pour les appels relatifs aux incendies (Call Type contient \"Fire\")\n",
    "\n",
    "Ajout d'une colonne calculée (Year, Delay_Minutes)\n",
    "\n",
    "Écriture du résultat final en CSV\n",
    "\n",
    "Attendu :\n",
    "\n",
    "Un script complet en .py ou .ipynb\n",
    "\n",
    "Le script doit être clair, bien structuré, et commenté à chaque étape importante."
   ],
   "id": "706e7d20c5f73fbe"
  }
 ],
 "metadata": {
  "kernelspec": {
   "display_name": "Python 3",
   "language": "python",
   "name": "python3"
  },
  "language_info": {
   "codemirror_mode": {
    "name": "ipython",
    "version": 2
   },
   "file_extension": ".py",
   "mimetype": "text/x-python",
   "name": "python",
   "nbconvert_exporter": "python",
   "pygments_lexer": "ipython2",
   "version": "2.7.6"
  }
 },
 "nbformat": 4,
 "nbformat_minor": 5
}
